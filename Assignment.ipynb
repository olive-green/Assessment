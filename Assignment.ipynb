{
  "nbformat": 4,
  "nbformat_minor": 0,
  "metadata": {
    "colab": {
      "provenance": []
    },
    "kernelspec": {
      "name": "python3",
      "display_name": "Python 3"
    },
    "language_info": {
      "name": "python"
    }
  },
  "cells": [
    {
      "cell_type": "code",
      "execution_count": 1,
      "metadata": {
        "colab": {
          "base_uri": "https://localhost:8080/"
        },
        "id": "O613hFRibBWT",
        "outputId": "3a1ac6ab-e257-4227-c38c-5f8b71e98593"
      },
      "outputs": [
        {
          "output_type": "stream",
          "name": "stderr",
          "text": [
            "<ipython-input-1-8d66a71b1fa4>:14: DtypeWarning: Columns (0,6,7,8,10,17,19,20,21,25,28,30,33) have mixed types. Specify dtype option on import or set low_memory=False.\n",
            "  df = pd.read_csv(gz)\n"
          ]
        },
        {
          "output_type": "stream",
          "name": "stdout",
          "text": [
            "✅ File downloaded and data loaded into DataFrame successfully!\n",
            "  platform_commission_rate venture_category3_name_en  \\\n",
            "0                     0.07            Parts & Spares   \n",
            "1                      0.1                 Hair Care   \n",
            "2                     0.07               Electronics   \n",
            "3                     0.07        Disposable Napkins   \n",
            "4                      0.1           Serum & Essence   \n",
            "\n",
            "                                   product_small_img  \\\n",
            "0  https://my-live.slatic.net/p/98b201dcb23a6f15c...   \n",
            "1  https://my-live.slatic.net/p/90097ebc33ddd0641...   \n",
            "2  https://my-live.slatic.net/p/35c1806bcb2b6895f...   \n",
            "3  https://my-live.slatic.net/p/06e24c1ead0e47cb3...   \n",
            "4  https://my-live.slatic.net/p/e17a59e38fc2418f8...   \n",
            "\n",
            "                                            deeplink availability  \\\n",
            "0  lazada://my/d?uri=https://www.lazada.com.my/pr...     in stock   \n",
            "1  lazada://my/d?uri=https://www.lazada.com.my/pr...     in stock   \n",
            "2  lazada://my/d?uri=https://www.lazada.com.my/pr...     in stock   \n",
            "3  lazada://my/d?uri=https://www.lazada.com.my/pr...     in stock   \n",
            "4  lazada://my/d?uri=https://www.lazada.com.my/pr...     in stock   \n",
            "\n",
            "                                         image_url_5 number_of_reviews  \\\n",
            "0                                                NaN                20   \n",
            "1  https://my-live.slatic.net/p/90ffe96b5f53d38cf...               115   \n",
            "2  https://my-live.slatic.net/p/bd0e9b3b7a0120bdf...               185   \n",
            "3  https://my-live.slatic.net/p/3b635d52337db761f...             33496   \n",
            "4  https://my-live.slatic.net/p/0c7fe68f5a8a9826d...             20378   \n",
            "\n",
            "  is_free_shipping promotion_price venture_category2_name_en  ...  \\\n",
            "0                0           16.74                Automotive  ...   \n",
            "1                0            39.9             Personal Care  ...   \n",
            "2                0           609.0                Automotive  ...   \n",
            "3                0             0.0               Disposables  ...   \n",
            "4                0             1.2                 Skin Care  ...   \n",
            "\n",
            "                                         image_url_2 discount_percentage  \\\n",
            "0  https://my-live.slatic.net/p/c14fc6fdbb240010a...                 0.0   \n",
            "1  https://my-live.slatic.net/p/8f699d3a2f66b0e45...                73.4   \n",
            "2  https://my-live.slatic.net/p/76442e587a6b97ecf...               15.09   \n",
            "3  https://my-live.slatic.net/p/67e9321adc531ab01...               74.94   \n",
            "4  https://my-live.slatic.net/p/23e014dc5d2eb525d...                84.5   \n",
            "\n",
            "                           seller_name  \\\n",
            "0  Z ONE ACCESSORIES WAREHOUSE SDN BHD   \n",
            "1               OLAPLEX HAIRCARE Store   \n",
            "2                                70mai   \n",
            "3                                 OIGA   \n",
            "4                      YOUBUY-official   \n",
            "\n",
            "                                         product_url  product_id  \\\n",
            "0  https://www.lazada.com.my/products/myvi-viva-s...  1352896491   \n",
            "1  https://www.lazada.com.my/products/buy-one-get...  3856537822   \n",
            "2  https://www.lazada.com.my/products/70mai-s500-...  1353246653   \n",
            "3  https://www.lazada.com.my/products/tissues-pap...  3772733731   \n",
            "4  https://www.lazada.com.my/products/natural-alo...  3779627330   \n",
            "\n",
            "  venture_category_name_local   rating_avg_value  \\\n",
            "0                       Clips                5.0   \n",
            "1             Hair Treatments  4.930434782608696   \n",
            "2               On-Dash Video  4.951351351351351   \n",
            "3          Disposable Napkins   4.94632194888942   \n",
            "4             Serum & Essence  4.944449896947689   \n",
            "\n",
            "                                     product_big_img  \\\n",
            "0  https://my-live.slatic.net/p/98b201dcb23a6f15c...   \n",
            "1  https://my-live.slatic.net/p/90097ebc33ddd0641...   \n",
            "2  https://my-live.slatic.net/p/35c1806bcb2b6895f...   \n",
            "3  https://my-live.slatic.net/p/06e24c1ead0e47cb3...   \n",
            "4  https://my-live.slatic.net/p/e17a59e38fc2418f8...   \n",
            "\n",
            "                                         image_url_3   price  \n",
            "0                                                NaN   17.00  \n",
            "1  https://my-live.slatic.net/p/140edb5b3b8d13009...  150.00  \n",
            "2  https://my-live.slatic.net/p/b397560f5f47697dd...  729.00  \n",
            "3  https://my-live.slatic.net/p/c03b8685d5e09ed9c...    4.23  \n",
            "4  https://my-live.slatic.net/p/32b53f4014ad9f679...    7.74  \n",
            "\n",
            "[5 rows x 34 columns]\n"
          ]
        }
      ],
      "source": [
        "import requests\n",
        "import pandas as pd\n",
        "import gzip\n",
        "from io import BytesIO\n",
        "\n",
        "#Download the .csv.gz file\n",
        "url = \"https://tyroo-engineering-assesments.s3.us-west-2.amazonaws.com/Tyroo-dummy-data.csv.gz\"\n",
        "response = requests.get(url)\n",
        "\n",
        "#Check if the request was successful\n",
        "if response.status_code == 200:\n",
        "    #Read the gzip-compressed content into a pandas DataFrame\n",
        "    with gzip.GzipFile(fileobj=BytesIO(response.content)) as gz:\n",
        "        df = pd.read_csv(gz)\n",
        "    print(\"File downloaded and data loaded into DataFrame successfully!\")\n",
        "    print(df.head())\n",
        "else:\n",
        "    print(\"Failed to download the file. Status code:\", response.status_code)\n"
      ]
    },
    {
      "cell_type": "code",
      "source": [
        "print(df.columns)"
      ],
      "metadata": {
        "colab": {
          "base_uri": "https://localhost:8080/"
        },
        "id": "LMLQqrVnjocW",
        "outputId": "8581f244-06eb-4f71-8d3d-32cf384f85bd"
      },
      "execution_count": 4,
      "outputs": [
        {
          "output_type": "stream",
          "name": "stdout",
          "text": [
            "Index(['platform_commission_rate', 'venture_category3_name_en',\n",
            "       'product_small_img', 'deeplink', 'availability', 'image_url_5',\n",
            "       'number_of_reviews', 'is_free_shipping', 'promotion_price',\n",
            "       'venture_category2_name_en', 'current_price', 'product_medium_img',\n",
            "       'venture_category1_name_en', 'brand_name', 'image_url_4', 'description',\n",
            "       'seller_url', 'product_commission_rate', 'product_name', 'sku_id',\n",
            "       'seller_rating', 'bonus_commission_rate', 'business_type',\n",
            "       'business_area', 'image_url_2', 'discount_percentage', 'seller_name',\n",
            "       'product_url', 'product_id', 'venture_category_name_local',\n",
            "       'rating_avg_value', 'product_big_img', 'image_url_3', 'price'],\n",
            "      dtype='object')\n"
          ]
        }
      ]
    },
    {
      "cell_type": "code",
      "source": [
        "print(df.describe())"
      ],
      "metadata": {
        "colab": {
          "base_uri": "https://localhost:8080/"
        },
        "id": "WuXoMgPArTnk",
        "outputId": "a053a3c8-eb6b-496b-9edb-b72a79fef127"
      },
      "execution_count": 11,
      "outputs": [
        {
          "output_type": "stream",
          "name": "stdout",
          "text": [
            "        platform_commission_rate venture_category3_name_en  \\\n",
            "count                 1000003.00                    969545   \n",
            "unique                     13.00                      1266   \n",
            "top                         0.07                      Tops   \n",
            "freq                   383853.00                     26018   \n",
            "\n",
            "                                        product_small_img  deeplink  \\\n",
            "count                                             1000003   1000003   \n",
            "unique                                             879077   1000001   \n",
            "top     https://filebroker-cdn.lazada.com.my/kf/S26e3a...  deeplink   \n",
            "freq                                                  102         3   \n",
            "\n",
            "       availability                                        image_url_5  \\\n",
            "count       1000003                                             823063   \n",
            "unique            2                                             541001   \n",
            "top        in stock  https://my-live.slatic.net/p/1d953beb684d304a1...   \n",
            "freq        1000000                                                270   \n",
            "\n",
            "        number_of_reviews  is_free_shipping  promotion_price  \\\n",
            "count            929893.0           1000003        1000003.0   \n",
            "unique             6852.0                 3          35342.0   \n",
            "top                   1.0                 0              0.0   \n",
            "freq              46486.0            983619         439924.0   \n",
            "\n",
            "       venture_category2_name_en  ...  \\\n",
            "count                     999993  ...   \n",
            "unique                       250  ...   \n",
            "top               Women Clothing  ...   \n",
            "freq                       87019  ...   \n",
            "\n",
            "                                              image_url_2 discount_percentage  \\\n",
            "count                                              961169           1000003.0   \n",
            "unique                                             661124             15137.0   \n",
            "top     https://my-live.slatic.net/p/e9ea4ca2dcc8c1ebd...                 0.0   \n",
            "freq                                                  443            226724.0   \n",
            "\n",
            "                            seller_name  product_url  product_id  \\\n",
            "count                           1000003      1000003     1000003   \n",
            "unique                            48955      1000001      729477   \n",
            "top     TAO Women's Fashion Collections  product_url  2414367349   \n",
            "freq                              61614            3          77   \n",
            "\n",
            "       venture_category_name_local rating_avg_value  \\\n",
            "count                      1000003         929407.0   \n",
            "unique                        3021          37899.0   \n",
            "top                        Dresses              5.0   \n",
            "freq                         21880         345111.0   \n",
            "\n",
            "                                          product_big_img  \\\n",
            "count                                             1000003   \n",
            "unique                                             879076   \n",
            "top     https://filebroker-cdn.lazada.com.my/kf/S26e3a...   \n",
            "freq                                                  102   \n",
            "\n",
            "                                              image_url_3      price  \n",
            "count                                              938606  1000003.0  \n",
            "unique                                             636076    37155.0  \n",
            "top     https://my-live.slatic.net/p/e3a7e1bf65accb25f...       20.0  \n",
            "freq                                                  349     9711.0  \n",
            "\n",
            "[4 rows x 34 columns]\n"
          ]
        }
      ]
    },
    {
      "cell_type": "code",
      "source": [
        "print(df.dtypes)"
      ],
      "metadata": {
        "colab": {
          "base_uri": "https://localhost:8080/"
        },
        "id": "y0OmvixAmEIB",
        "outputId": "bfeba1dc-5b49-4fd0-fc6a-17873a3a8372"
      },
      "execution_count": 6,
      "outputs": [
        {
          "output_type": "stream",
          "name": "stdout",
          "text": [
            "platform_commission_rate       object\n",
            "venture_category3_name_en      object\n",
            "product_small_img              object\n",
            "deeplink                       object\n",
            "availability                   object\n",
            "image_url_5                    object\n",
            "number_of_reviews              object\n",
            "is_free_shipping               object\n",
            "promotion_price                object\n",
            "venture_category2_name_en      object\n",
            "current_price                  object\n",
            "product_medium_img             object\n",
            "venture_category1_name_en      object\n",
            "brand_name                     object\n",
            "image_url_4                    object\n",
            "description                    object\n",
            "seller_url                     object\n",
            "product_commission_rate        object\n",
            "product_name                   object\n",
            "sku_id                         object\n",
            "seller_rating                  object\n",
            "bonus_commission_rate          object\n",
            "business_type                  object\n",
            "business_area                  object\n",
            "image_url_2                    object\n",
            "discount_percentage            object\n",
            "seller_name                    object\n",
            "product_url                    object\n",
            "product_id                     object\n",
            "venture_category_name_local    object\n",
            "rating_avg_value               object\n",
            "product_big_img                object\n",
            "image_url_3                    object\n",
            "price                          object\n",
            "dtype: object\n"
          ]
        }
      ]
    },
    {
      "cell_type": "code",
      "source": [
        "print(df.count())"
      ],
      "metadata": {
        "colab": {
          "base_uri": "https://localhost:8080/"
        },
        "id": "FY6S0VhlpqyH",
        "outputId": "64c86b47-420c-474a-9e42-d17229e243ee"
      },
      "execution_count": 8,
      "outputs": [
        {
          "output_type": "stream",
          "name": "stdout",
          "text": [
            "platform_commission_rate       1000003\n",
            "venture_category3_name_en       969545\n",
            "product_small_img              1000003\n",
            "deeplink                       1000003\n",
            "availability                   1000003\n",
            "image_url_5                     823063\n",
            "number_of_reviews               929893\n",
            "is_free_shipping               1000003\n",
            "promotion_price                1000003\n",
            "venture_category2_name_en       999993\n",
            "current_price                  1000003\n",
            "product_medium_img             1000003\n",
            "venture_category1_name_en      1000003\n",
            "brand_name                      998242\n",
            "image_url_4                     881633\n",
            "description                     590777\n",
            "seller_url                     1000003\n",
            "product_commission_rate        1000003\n",
            "product_name                   1000003\n",
            "sku_id                         1000003\n",
            "seller_rating                   998277\n",
            "bonus_commission_rate          1000003\n",
            "business_type                  1000003\n",
            "business_area                  1000003\n",
            "image_url_2                     961169\n",
            "discount_percentage            1000003\n",
            "seller_name                    1000003\n",
            "product_url                    1000003\n",
            "product_id                     1000003\n",
            "venture_category_name_local    1000003\n",
            "rating_avg_value                929407\n",
            "product_big_img                1000003\n",
            "image_url_3                     938606\n",
            "price                          1000003\n",
            "dtype: int64\n"
          ]
        }
      ]
    },
    {
      "cell_type": "code",
      "source": [
        "print(df.isnull().sum())"
      ],
      "metadata": {
        "colab": {
          "base_uri": "https://localhost:8080/"
        },
        "id": "JGTkcbPoqAGN",
        "outputId": "653a4cc1-1194-47f7-f82c-27d7374eb7c3"
      },
      "execution_count": 9,
      "outputs": [
        {
          "output_type": "stream",
          "name": "stdout",
          "text": [
            "platform_commission_rate            0\n",
            "venture_category3_name_en       30458\n",
            "product_small_img                   0\n",
            "deeplink                            0\n",
            "availability                        0\n",
            "image_url_5                    176940\n",
            "number_of_reviews               70110\n",
            "is_free_shipping                    0\n",
            "promotion_price                     0\n",
            "venture_category2_name_en          10\n",
            "current_price                       0\n",
            "product_medium_img                  0\n",
            "venture_category1_name_en           0\n",
            "brand_name                       1761\n",
            "image_url_4                    118370\n",
            "description                    409226\n",
            "seller_url                          0\n",
            "product_commission_rate             0\n",
            "product_name                        0\n",
            "sku_id                              0\n",
            "seller_rating                    1726\n",
            "bonus_commission_rate               0\n",
            "business_type                       0\n",
            "business_area                       0\n",
            "image_url_2                     38834\n",
            "discount_percentage                 0\n",
            "seller_name                         0\n",
            "product_url                         0\n",
            "product_id                          0\n",
            "venture_category_name_local         0\n",
            "rating_avg_value                70596\n",
            "product_big_img                     0\n",
            "image_url_3                     61397\n",
            "price                               0\n",
            "dtype: int64\n"
          ]
        }
      ]
    },
    {
      "cell_type": "code",
      "source": [
        "import numpy as np\n",
        "#Standardize column names for SQL compatibility\n",
        "df.columns = (\n",
        "    df.columns\n",
        "    .str.strip()\n",
        "    .str.lower()\n",
        "    .str.replace(' ', '_')\n",
        "    .str.replace(r'[^0-9a-zA-Z_]', '', regex=True)\n",
        ")\n",
        "\n",
        "#Remove duplicate rows if any\n",
        "df.drop_duplicates(inplace=True)\n",
        "\n",
        "#Replace empty strings with NaN\n",
        "df.replace('', np.nan, inplace=True)\n",
        "\n",
        "#Convert boolean column\n",
        "df['is_free_shipping'] = df['is_free_shipping'].astype(bool)\n",
        "\n",
        "#Convert numeric columns\n",
        "numeric_columns = [\n",
        "    'platform_commission_rate', 'promotion_price', 'current_price', 'product_commission_rate',\n",
        "    'bonus_commission_rate', 'discount_percentage', 'price', 'rating_avg_value',\n",
        "    'number_of_reviews', 'seller_rating'\n",
        "]\n",
        "for col in numeric_columns:\n",
        "    df[col] = pd.to_numeric(df[col], errors='coerce')\n",
        "\n",
        "#Handle missing values\n",
        "df['brand_name'] = df['brand_name'].fillna('Unknown')\n",
        "df['image_url_5']=df['image_url_5'].fillna('Unknown')\n",
        "df['image_url_2']=df['image_url_2'].fillna('Unknown')\n",
        "df['image_url_4']=df['image_url_4'].fillna('Unknown')\n",
        "df['venture_category3_name_en'] = df['venture_category3_name_en'].fillna('Unknown')\n",
        "df['description'] = df['description'].fillna('')\n",
        "df['number_of_reviews'] = df['number_of_reviews'].fillna(0)\n",
        "df['seller_rating'] = df['seller_rating'].fillna(df['seller_rating'].median())\n",
        "\n",
        "#Standardize text columns\n",
        "text_columns = df.select_dtypes(include='object').columns\n",
        "df[text_columns] = df[text_columns].apply(lambda x: x.str.strip())\n",
        "\n",
        "#Optional – drop columns with >50% missing values\n",
        "missing_threshold = 0.5\n",
        "cols_to_drop = df.columns[df.isnull().mean() > missing_threshold]\n",
        "df.drop(columns=cols_to_drop, inplace=True)\n",
        "\n",
        "\n"
      ],
      "metadata": {
        "colab": {
          "base_uri": "https://localhost:8080/"
        },
        "id": "MQlo0vHIsnSX",
        "outputId": "f7b3a5ca-7c1b-4a18-fc74-c848a69e3a63"
      },
      "execution_count": 27,
      "outputs": [
        {
          "output_type": "stream",
          "name": "stdout",
          "text": [
            "✅ Cleaned data sample:\n",
            "   platform_commission_rate venture_category3_name_en  \\\n",
            "0                      0.07            Parts & Spares   \n",
            "1                      0.10                 Hair Care   \n",
            "2                      0.07               Electronics   \n",
            "3                      0.07        Disposable Napkins   \n",
            "4                      0.10           Serum & Essence   \n",
            "\n",
            "                                   product_small_img  \\\n",
            "0  https://my-live.slatic.net/p/98b201dcb23a6f15c...   \n",
            "1  https://my-live.slatic.net/p/90097ebc33ddd0641...   \n",
            "2  https://my-live.slatic.net/p/35c1806bcb2b6895f...   \n",
            "3  https://my-live.slatic.net/p/06e24c1ead0e47cb3...   \n",
            "4  https://my-live.slatic.net/p/e17a59e38fc2418f8...   \n",
            "\n",
            "                                            deeplink availability  \\\n",
            "0  lazada://my/d?uri=https://www.lazada.com.my/pr...     in stock   \n",
            "1  lazada://my/d?uri=https://www.lazada.com.my/pr...     in stock   \n",
            "2  lazada://my/d?uri=https://www.lazada.com.my/pr...     in stock   \n",
            "3  lazada://my/d?uri=https://www.lazada.com.my/pr...     in stock   \n",
            "4  lazada://my/d?uri=https://www.lazada.com.my/pr...     in stock   \n",
            "\n",
            "                                         image_url_5  number_of_reviews  \\\n",
            "0                                            Unknown               20.0   \n",
            "1  https://my-live.slatic.net/p/90ffe96b5f53d38cf...              115.0   \n",
            "2  https://my-live.slatic.net/p/bd0e9b3b7a0120bdf...              185.0   \n",
            "3  https://my-live.slatic.net/p/3b635d52337db761f...            33496.0   \n",
            "4  https://my-live.slatic.net/p/0c7fe68f5a8a9826d...            20378.0   \n",
            "\n",
            "   is_free_shipping  promotion_price venture_category2_name_en  ...  \\\n",
            "0              True            16.74                Automotive  ...   \n",
            "1              True            39.90             Personal Care  ...   \n",
            "2              True           609.00                Automotive  ...   \n",
            "3              True             0.00               Disposables  ...   \n",
            "4              True             1.20                 Skin Care  ...   \n",
            "\n",
            "   business_area                                        image_url_2  \\\n",
            "0    Marketplace  https://my-live.slatic.net/p/c14fc6fdbb240010a...   \n",
            "1    Marketplace  https://my-live.slatic.net/p/8f699d3a2f66b0e45...   \n",
            "2    Marketplace  https://my-live.slatic.net/p/76442e587a6b97ecf...   \n",
            "3    Crossborder  https://my-live.slatic.net/p/67e9321adc531ab01...   \n",
            "4    Crossborder  https://my-live.slatic.net/p/23e014dc5d2eb525d...   \n",
            "\n",
            "  discount_percentage                          seller_name  \\\n",
            "0                0.00  Z ONE ACCESSORIES WAREHOUSE SDN BHD   \n",
            "1               73.40               OLAPLEX HAIRCARE Store   \n",
            "2               15.09                                70mai   \n",
            "3               74.94                                 OIGA   \n",
            "4               84.50                      YOUBUY-official   \n",
            "\n",
            "                                         product_url  \\\n",
            "0  https://www.lazada.com.my/products/myvi-viva-s...   \n",
            "1  https://www.lazada.com.my/products/buy-one-get...   \n",
            "2  https://www.lazada.com.my/products/70mai-s500-...   \n",
            "3  https://www.lazada.com.my/products/tissues-pap...   \n",
            "4  https://www.lazada.com.my/products/natural-alo...   \n",
            "\n",
            "  venture_category_name_local rating_avg_value  \\\n",
            "0                       Clips         5.000000   \n",
            "1             Hair Treatments         4.930435   \n",
            "2               On-Dash Video         4.951351   \n",
            "3          Disposable Napkins         4.946322   \n",
            "4             Serum & Essence         4.944450   \n",
            "\n",
            "                                     product_big_img  \\\n",
            "0  https://my-live.slatic.net/p/98b201dcb23a6f15c...   \n",
            "1  https://my-live.slatic.net/p/90097ebc33ddd0641...   \n",
            "2  https://my-live.slatic.net/p/35c1806bcb2b6895f...   \n",
            "3  https://my-live.slatic.net/p/06e24c1ead0e47cb3...   \n",
            "4  https://my-live.slatic.net/p/e17a59e38fc2418f8...   \n",
            "\n",
            "                                         image_url_3   price  \n",
            "0                                                NaN   17.00  \n",
            "1  https://my-live.slatic.net/p/140edb5b3b8d13009...  150.00  \n",
            "2  https://my-live.slatic.net/p/b397560f5f47697dd...  729.00  \n",
            "3  https://my-live.slatic.net/p/c03b8685d5e09ed9c...    4.23  \n",
            "4  https://my-live.slatic.net/p/32b53f4014ad9f679...    7.74  \n",
            "\n",
            "[5 rows x 32 columns]\n",
            "\n",
            "✅ Shape of cleaned data: (1000001, 32)\n"
          ]
        }
      ]
    },
    {
      "cell_type": "code",
      "source": [
        "print(df.shape)"
      ],
      "metadata": {
        "colab": {
          "base_uri": "https://localhost:8080/"
        },
        "id": "urAkxQnutc3C",
        "outputId": "1cc1a9ac-e911-4dfa-e5ac-d66c18c7c754"
      },
      "execution_count": 22,
      "outputs": [
        {
          "output_type": "stream",
          "name": "stdout",
          "text": [
            "(1000001, 32)\n"
          ]
        }
      ]
    },
    {
      "cell_type": "code",
      "source": [
        "print(df.isnull().sum())"
      ],
      "metadata": {
        "colab": {
          "base_uri": "https://localhost:8080/"
        },
        "id": "Ae9z-Wn1tUGA",
        "outputId": "a8d880dc-b876-436a-83ad-801e8b097c42"
      },
      "execution_count": 28,
      "outputs": [
        {
          "output_type": "stream",
          "name": "stdout",
          "text": [
            "platform_commission_rate            1\n",
            "venture_category3_name_en           0\n",
            "product_small_img                   0\n",
            "deeplink                            0\n",
            "availability                        0\n",
            "image_url_5                         0\n",
            "number_of_reviews                   0\n",
            "is_free_shipping                    0\n",
            "promotion_price                     1\n",
            "venture_category2_name_en          10\n",
            "current_price                       1\n",
            "product_medium_img                  0\n",
            "venture_category1_name_en           0\n",
            "brand_name                          0\n",
            "image_url_4                    118370\n",
            "description                         0\n",
            "seller_url                          0\n",
            "product_commission_rate             1\n",
            "product_name                        0\n",
            "seller_rating                       0\n",
            "bonus_commission_rate               1\n",
            "business_type                       0\n",
            "business_area                       0\n",
            "image_url_2                         0\n",
            "discount_percentage                 1\n",
            "seller_name                         0\n",
            "product_url                         0\n",
            "venture_category_name_local         0\n",
            "rating_avg_value                70597\n",
            "product_big_img                     0\n",
            "image_url_3                     61397\n",
            "price                               1\n",
            "dtype: int64\n"
          ]
        }
      ]
    },
    {
      "cell_type": "code",
      "source": [
        "\n",
        "import sqlite3\n",
        "from sqlalchemy import create_engine, text\n",
        "\n",
        "# === CONFIG ===\n",
        "db_name = \"tyroo_products.db\"\n",
        "table_name = \"product_data\"\n",
        "chunk_size = 50000\n",
        "\n",
        "# === Create SQLAlchemy engine ===\n",
        "engine = create_engine(f\"sqlite:///{db_name}\")\n",
        "\n",
        "\n",
        "create_table_sql = \"\"\"\n",
        "CREATE TABLE IF NOT EXISTS product_data (\n",
        "    platform_commission_rate     REAL,\n",
        "    venture_category3_name_en    TEXT,\n",
        "    product_small_img            TEXT,\n",
        "    deeplink                     TEXT,\n",
        "    availability                 TEXT,\n",
        "    image_url_5                  TEXT,\n",
        "    number_of_reviews            INTEGER,\n",
        "    is_free_shipping             BOOLEAN,\n",
        "    promotion_price              REAL,\n",
        "    venture_category2_name_en    TEXT,\n",
        "    current_price                REAL,\n",
        "    product_medium_img           TEXT,\n",
        "    venture_category1_name_en    TEXT,\n",
        "    brand_name                   TEXT,\n",
        "    image_url_4                  TEXT,\n",
        "    description                  TEXT,\n",
        "    seller_url                   TEXT,\n",
        "    product_commission_rate      REAL,\n",
        "    product_name                 TEXT,\n",
        "    sku_id                       TEXT,\n",
        "    seller_rating                REAL,\n",
        "    bonus_commission_rate        REAL,\n",
        "    business_type                TEXT,\n",
        "    business_area                TEXT,\n",
        "    image_url_2                  TEXT,\n",
        "    discount_percentage          REAL,\n",
        "    seller_name                  TEXT,\n",
        "    product_url                  TEXT,\n",
        "    product_id                   BIGINT,\n",
        "    venture_category_name_local  TEXT,\n",
        "    rating_avg_value             REAL,\n",
        "    product_big_img              TEXT,\n",
        "    image_url_3                  TEXT,\n",
        "    price                        REAL\n",
        ");\n",
        "\"\"\"\n",
        "\n",
        "#Create the table using the schema\n",
        "with engine.connect() as conn:\n",
        "    conn.execute(text(create_table_sql))\n",
        "    print(\"Table schema created.\")\n",
        "\n",
        "#Insert DataFrame into the database in chunks ===\n",
        "\n",
        "for i in range(0, len(df), chunk_size):\n",
        "    chunk = df.iloc[i:i+chunk_size]\n",
        "    chunk.to_sql(name=table_name, con=engine, if_exists='append', index=False)\n",
        "    print(f\"Inserted chunk {i//chunk_size + 1}\")\n",
        "\n",
        "print(\"\\nAll data inserted successfully into database:\", db_name)\n"
      ],
      "metadata": {
        "id": "VjEYSbnR6ewt"
      },
      "execution_count": null,
      "outputs": []
    }
  ]
}